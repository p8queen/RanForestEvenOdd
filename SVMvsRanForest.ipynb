{
 "cells": [
  {
   "cell_type": "markdown",
   "id": "3e84f0b0-a94f-4a0b-b973-4d5ab3de5e48",
   "metadata": {
    "tags": []
   },
   "source": [
    "### Support Vector Machine vs Random Forest"
   ]
  },
  {
   "cell_type": "code",
   "execution_count": 1,
   "id": "464932af-107d-4fe3-bb07-d6561a5e393f",
   "metadata": {},
   "outputs": [],
   "source": [
    "from sklearn import svm\n",
    "import pandas as pd\n",
    "import numpy as np"
   ]
  },
  {
   "cell_type": "code",
   "execution_count": 2,
   "id": "849b003e-a8de-4483-b3e0-bebe39498418",
   "metadata": {},
   "outputs": [],
   "source": [
    "#data random\n",
    "x_train = np.random.random((3000,2))\n",
    "y_train = np.zeros((3000))\n",
    "\n",
    "x_test = np.random.random((300,2))\n",
    "y_test = np.zeros((300))"
   ]
  },
  {
   "cell_type": "code",
   "execution_count": 3,
   "id": "cdefb854-a1a7-4a70-827c-c6ba00bf8cf5",
   "metadata": {},
   "outputs": [],
   "source": [
    "x_train = np.around(x_train, decimals=2)\n",
    "x_test = np.around(x_test, decimals=2)"
   ]
  },
  {
   "cell_type": "code",
   "execution_count": 4,
   "id": "908f04a3-0e7e-4ab4-9b62-df643602df86",
   "metadata": {},
   "outputs": [
    {
     "data": {
      "text/plain": [
       "array([0.72, 0.66])"
      ]
     },
     "execution_count": 4,
     "metadata": {},
     "output_type": "execute_result"
    }
   ],
   "source": [
    "x_train[0]"
   ]
  },
  {
   "cell_type": "code",
   "execution_count": 5,
   "id": "47962393-59f3-474c-9211-6769610781b4",
   "metadata": {},
   "outputs": [],
   "source": [
    "a=0\n",
    "for x in x_train:\n",
    "  #get first digit after point.\n",
    "  # [0.52, 0.36] p->5, q->3\n",
    "  # y_train 0(! (case 1 or 2) ) ,1(both odd) or 2(both even)  \n",
    "  p = np.trunc(x[0]*10) \n",
    "  q = np.trunc(x[1]*10)\n",
    "  if (p%2 + q%2)==0: #both even\n",
    "    y_train[a] = 2.0\n",
    "  if (p%2 + q%2)==2: #both odd\n",
    "    y_train[a] = 1.0\n",
    "  a += 1\n",
    "\n",
    "a=0\n",
    "for x in x_test:\n",
    "  p = np.trunc(x[0]*10)\n",
    "  q = np.trunc(x[1]*10)\n",
    "  if (p%2 + q%2)==0: #es par ambos\n",
    "    y_test[a] = 2.0\n",
    "  if (p%2 + q%2)==2: #es impar ambos\n",
    "    y_test[a] = 1.0\n",
    "    \n",
    "  a += 1\n"
   ]
  },
  {
   "cell_type": "code",
   "execution_count": 6,
   "id": "6367043f-aeee-4ec4-865b-1e9ac599c04d",
   "metadata": {},
   "outputs": [
    {
     "data": {
      "text/plain": [
       "(array([[0.48, 0.48],\n",
       "        [0.51, 0.17],\n",
       "        [0.84, 0.37],\n",
       "        [0.52, 0.68],\n",
       "        [0.69, 0.82]]),\n",
       " array([2., 1., 0., 0., 2.]))"
      ]
     },
     "execution_count": 6,
     "metadata": {},
     "output_type": "execute_result"
    }
   ],
   "source": [
    "x_test[:5], y_test[:5]"
   ]
  },
  {
   "cell_type": "code",
   "execution_count": 7,
   "id": "03de2cf3-fabf-48c4-a8fb-f0fd24c35491",
   "metadata": {},
   "outputs": [
    {
     "data": {
      "text/plain": [
       "SVC(C=100, gamma=1e-05)"
      ]
     },
     "execution_count": 7,
     "metadata": {},
     "output_type": "execute_result"
    }
   ],
   "source": [
    "#set the model and train it\n",
    "svc = svm.SVC(gamma=0.00001,C=100, kernel='rbf')\n",
    "svc.fit(x_train,y_train)"
   ]
  },
  {
   "cell_type": "code",
   "execution_count": 8,
   "id": "a63a1ae2-5986-47c7-a6fc-dd6df605270a",
   "metadata": {},
   "outputs": [
    {
     "data": {
      "text/plain": [
       "0.4866666666666667"
      ]
     },
     "execution_count": 8,
     "metadata": {},
     "output_type": "execute_result"
    }
   ],
   "source": [
    "svc.score(x_test,y_test)"
   ]
  },
  {
   "cell_type": "markdown",
   "id": "e53f26fc-90dd-409f-8b6d-ec7d60f91ecb",
   "metadata": {},
   "source": [
    "### Random Forest"
   ]
  },
  {
   "cell_type": "code",
   "execution_count": 9,
   "id": "be259ab5-dd4c-48b3-ba35-b90e7aee5475",
   "metadata": {},
   "outputs": [],
   "source": [
    "from sklearn.ensemble import RandomForestClassifier\n",
    "\n",
    "rfc = RandomForestClassifier(n_estimators=100)"
   ]
  },
  {
   "cell_type": "code",
   "execution_count": 10,
   "id": "5e51162e-9fb7-4d31-b051-70ba8d2065c3",
   "metadata": {},
   "outputs": [
    {
     "data": {
      "text/plain": [
       "RandomForestClassifier()"
      ]
     },
     "execution_count": 10,
     "metadata": {},
     "output_type": "execute_result"
    }
   ],
   "source": [
    "rfc.fit(x_train,y_train)"
   ]
  },
  {
   "cell_type": "code",
   "execution_count": 11,
   "id": "141845b2-2994-4fee-82b6-90b1adec1aa0",
   "metadata": {},
   "outputs": [
    {
     "data": {
      "text/plain": [
       "0.97"
      ]
     },
     "execution_count": 11,
     "metadata": {},
     "output_type": "execute_result"
    }
   ],
   "source": [
    "rfc.score(x_test,y_test)"
   ]
  },
  {
   "cell_type": "code",
   "execution_count": 12,
   "id": "767737ab-a90c-4f34-8680-7aeacf3f4121",
   "metadata": {},
   "outputs": [
    {
     "data": {
      "text/plain": [
       "(array([[0.48, 0.48],\n",
       "        [0.51, 0.17],\n",
       "        [0.84, 0.37],\n",
       "        [0.52, 0.68],\n",
       "        [0.69, 0.82],\n",
       "        [0.33, 0.64],\n",
       "        [0.72, 0.59],\n",
       "        [0.24, 0.93],\n",
       "        [0.46, 0.54],\n",
       "        [0.89, 0.18],\n",
       "        [0.34, 0.55],\n",
       "        [0.48, 0.56],\n",
       "        [0.  , 0.95],\n",
       "        [0.16, 0.76],\n",
       "        [0.63, 0.04]]),\n",
       " array([0., 1., 0., 0., 2., 0., 1., 0., 0., 0., 1., 0., 0., 1., 2.]))"
      ]
     },
     "execution_count": 12,
     "metadata": {},
     "output_type": "execute_result"
    }
   ],
   "source": [
    "x_test[:15], rfc.predict(x_test[:15])"
   ]
  },
  {
   "cell_type": "markdown",
   "id": "78d23464-690d-4884-9eb2-0e9ef8ce4e8f",
   "metadata": {},
   "source": [
    "If you see the score, the right option is Random Forest for this problem. \n",
    "\n",
    "Sometimes you hesitate about wich algorithm is the right choice, but you can try both. AI does the math, solves the problem for us. "
   ]
  }
 ],
 "metadata": {
  "kernelspec": {
   "display_name": "Python 3 (ipykernel)",
   "language": "python",
   "name": "python3"
  },
  "language_info": {
   "codemirror_mode": {
    "name": "ipython",
    "version": 3
   },
   "file_extension": ".py",
   "mimetype": "text/x-python",
   "name": "python",
   "nbconvert_exporter": "python",
   "pygments_lexer": "ipython3",
   "version": "3.8.10"
  }
 },
 "nbformat": 4,
 "nbformat_minor": 5
}
