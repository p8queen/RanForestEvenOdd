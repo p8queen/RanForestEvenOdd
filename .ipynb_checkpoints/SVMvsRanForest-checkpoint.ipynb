{
 "cells": [
  {
   "cell_type": "code",
   "execution_count": 1,
   "id": "464932af-107d-4fe3-bb07-d6561a5e393f",
   "metadata": {},
   "outputs": [],
   "source": [
    "from sklearn import svm\n",
    "import pandas as pd\n",
    "import numpy as np"
   ]
  },
  {
   "cell_type": "code",
   "execution_count": 2,
   "id": "849b003e-a8de-4483-b3e0-bebe39498418",
   "metadata": {},
   "outputs": [],
   "source": [
    "#data random\n",
    "x_train = np.random.random((1000,2))\n",
    "y_train = np.zeros((1000))\n",
    "\n",
    "x_test = np.random.random((100,2))\n",
    "y_test = np.zeros((100))"
   ]
  },
  {
   "cell_type": "code",
   "execution_count": 3,
   "id": "cdefb854-a1a7-4a70-827c-c6ba00bf8cf5",
   "metadata": {},
   "outputs": [],
   "source": [
    "x_train = np.around(x_train, decimals=2)\n",
    "x_test = np.around(x_test, decimals=2)"
   ]
  },
  {
   "cell_type": "code",
   "execution_count": 4,
   "id": "908f04a3-0e7e-4ab4-9b62-df643602df86",
   "metadata": {},
   "outputs": [
    {
     "data": {
      "text/plain": [
       "array([0.01, 0.44])"
      ]
     },
     "execution_count": 4,
     "metadata": {},
     "output_type": "execute_result"
    }
   ],
   "source": [
    "x_train[0]"
   ]
  },
  {
   "cell_type": "code",
   "execution_count": 7,
   "id": "47962393-59f3-474c-9211-6769610781b4",
   "metadata": {},
   "outputs": [],
   "source": [
    "a=0\n",
    "for x in x_train:\n",
    "  #get first digit after point.\n",
    "  # \n",
    "  p = np.trunc(x[0]*10) \n",
    "  q = np.trunc(x[1]*10)\n",
    "  if (p%2 + q%2)==0: #es par ambos\n",
    "    y_train[a] = 2.0\n",
    "  if (p%2 + q%2)==2: #es impar ambos\n",
    "    y_train[a] = 1.0\n",
    "  a += 1"
   ]
  }
 ],
 "metadata": {
  "kernelspec": {
   "display_name": "Python 3 (ipykernel)",
   "language": "python",
   "name": "python3"
  },
  "language_info": {
   "codemirror_mode": {
    "name": "ipython",
    "version": 3
   },
   "file_extension": ".py",
   "mimetype": "text/x-python",
   "name": "python",
   "nbconvert_exporter": "python",
   "pygments_lexer": "ipython3",
   "version": "3.8.10"
  }
 },
 "nbformat": 4,
 "nbformat_minor": 5
}
